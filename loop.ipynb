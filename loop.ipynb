{
 "cells": [
  {
   "cell_type": "code",
   "execution_count": 3,
   "id": "d734c6dc",
   "metadata": {},
   "outputs": [],
   "source": [
    "import pickle\n",
    "import time\n",
    "import random\n",
    "import datetime\n",
    "\n",
    "import utils \n",
    "\n",
    "creds = pickle.load(open('creds', 'rb'))\n",
    "entire_dict = pickle.load(open('cached_dict', 'rb'))"
   ]
  },
  {
   "cell_type": "code",
   "execution_count": null,
   "id": "edfd508e",
   "metadata": {},
   "outputs": [
    {
     "name": "stdout",
     "output_type": "stream",
     "text": [
      "YouTube embedded video posted to Reddit\n",
      "Next post scheduled for 2021-08-21 22:27:20.186471\n"
     ]
    }
   ],
   "source": [
    "while True:\n",
    "    try:\n",
    "        utils.post_random_content(entire_dict, creds, content_type = 'youtube')\n",
    "    except:\n",
    "        pass\n",
    "    seconds_to_wait = random.randint(60*60*3, 60*60*5)\n",
    "    print('Next post scheduled for ' + str(datetime.datetime.now() + datetime.timedelta(seconds = seconds_to_wait)))\n",
    "    time.sleep(seconds_to_wait)"
   ]
  }
 ],
 "metadata": {
  "kernelspec": {
   "display_name": "conda_python3",
   "language": "python",
   "name": "conda_python3"
  },
  "language_info": {
   "codemirror_mode": {
    "name": "ipython",
    "version": 3
   },
   "file_extension": ".py",
   "mimetype": "text/x-python",
   "name": "python",
   "nbconvert_exporter": "python",
   "pygments_lexer": "ipython3",
   "version": "3.6.13"
  }
 },
 "nbformat": 4,
 "nbformat_minor": 5
}
